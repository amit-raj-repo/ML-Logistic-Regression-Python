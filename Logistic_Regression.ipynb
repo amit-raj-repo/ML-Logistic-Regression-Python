{
  "nbformat": 4,
  "nbformat_minor": 0,
  "metadata": {
    "colab": {
      "name": "Logistic Regression.ipynb",
      "provenance": [],
      "authorship_tag": "ABX9TyMAifyqXLSmNRmbrzpV6W9I",
      "include_colab_link": true
    },
    "kernelspec": {
      "name": "python3",
      "display_name": "Python 3"
    }
  },
  "cells": [
    {
      "cell_type": "markdown",
      "metadata": {
        "id": "view-in-github",
        "colab_type": "text"
      },
      "source": [
        "<a href=\"https://colab.research.google.com/github/amit-raj-repo/ML-Logistic-Regression-Python/blob/master/Logistic_Regression.ipynb\" target=\"_parent\"><img src=\"https://colab.research.google.com/assets/colab-badge.svg\" alt=\"Open In Colab\"/></a>"
      ]
    },
    {
      "cell_type": "code",
      "metadata": {
        "id": "xBK32ZbWfDux",
        "colab_type": "code",
        "colab": {}
      },
      "source": [
        "import pandas as pd\n",
        "from sklearn.linear_model import LogisticRegression\n",
        "from sklearn import metrics\n",
        "from sklearn.model_selection import train_test_split\n",
        "from sklearn.metrics import confusion_matrix\n",
        "from matplotlib import pyplot as plt"
      ],
      "execution_count": 0,
      "outputs": []
    },
    {
      "cell_type": "code",
      "metadata": {
        "id": "T7LzrMT0gOx9",
        "colab_type": "code",
        "colab": {}
      },
      "source": [
        "from google.colab import drive\n",
        "drive.mount('/content/gdrive')"
      ],
      "execution_count": 0,
      "outputs": []
    },
    {
      "cell_type": "code",
      "metadata": {
        "id": "FgPLBnikglr7",
        "colab_type": "code",
        "colab": {}
      },
      "source": [
        "# Importing the dataset\n",
        "\n",
        "df = pd.read_csv(\"/content/gdrive/My Drive/Data/data.csv\").dropna(axis = 0)\n",
        "df.head()"
      ],
      "execution_count": 0,
      "outputs": []
    },
    {
      "cell_type": "code",
      "metadata": {
        "id": "pAhNqBEwg4Qg",
        "colab_type": "code",
        "colab": {}
      },
      "source": [
        "#Seprating dependent and independent variables\n",
        "X = df.iloc[:, :-1].values\n",
        "y = df.iloc[:,-1].values"
      ],
      "execution_count": 0,
      "outputs": []
    },
    {
      "cell_type": "code",
      "metadata": {
        "id": "4Yqzggqug9PJ",
        "colab_type": "code",
        "colab": {
          "base_uri": "https://localhost:8080/",
          "height": 35
        },
        "outputId": "ef7f97c7-21ab-47e9-e0d3-fadbd75611a7"
      },
      "source": [
        "print(X.shape)"
      ],
      "execution_count": 6,
      "outputs": [
        {
          "output_type": "stream",
          "text": [
            "(169559, 25)\n"
          ],
          "name": "stdout"
        }
      ]
    },
    {
      "cell_type": "code",
      "metadata": {
        "id": "Wq9xElWBhAGI",
        "colab_type": "code",
        "colab": {}
      },
      "source": [
        "#Splitting into test and train\n",
        "X_train, X_test, y_train, y_test = train_test_split(X, y, test_size=0.20,\n",
        "                                                    random_state=3)"
      ],
      "execution_count": 0,
      "outputs": []
    },
    {
      "cell_type": "code",
      "metadata": {
        "id": "8mkwtm-AhC6c",
        "colab_type": "code",
        "colab": {}
      },
      "source": [
        "#===============================================================#\n",
        "# Logistic Regression Model\n",
        "#===============================================================#"
      ],
      "execution_count": 0,
      "outputs": []
    },
    {
      "cell_type": "code",
      "metadata": {
        "id": "Szn9WcIZhJpz",
        "colab_type": "code",
        "colab": {}
      },
      "source": [
        "model = LogisticRegression(penalty='l2', random_state=3, max_iter= 500,\n",
        "                            warm_start=True)"
      ],
      "execution_count": 0,
      "outputs": []
    },
    {
      "cell_type": "code",
      "metadata": {
        "id": "kN4YYOQHiV-G",
        "colab_type": "code",
        "colab": {
          "base_uri": "https://localhost:8080/",
          "height": 104
        },
        "outputId": "ae6f4450-3e92-4f72-fb48-cc2ce31da03a"
      },
      "source": [
        "model.fit(X_train, y_train)"
      ],
      "execution_count": 67,
      "outputs": [
        {
          "output_type": "execute_result",
          "data": {
            "text/plain": [
              "LogisticRegression(C=1.0, class_weight=None, dual=False, fit_intercept=True,\n",
              "                   intercept_scaling=1, l1_ratio=None, max_iter=500,\n",
              "                   multi_class='auto', n_jobs=None, penalty='l2',\n",
              "                   random_state=3, solver='lbfgs', tol=0.0001, verbose=0,\n",
              "                   warm_start=True)"
            ]
          },
          "metadata": {
            "tags": []
          },
          "execution_count": 67
        }
      ]
    },
    {
      "cell_type": "code",
      "metadata": {
        "id": "fYRgDPM1ioD7",
        "colab_type": "code",
        "colab": {
          "base_uri": "https://localhost:8080/",
          "height": 173
        },
        "outputId": "d53deef1-802f-4d33-a8d8-1842a773c4e6"
      },
      "source": [
        "#Getting all the model coefficients\n",
        "model.coef_"
      ],
      "execution_count": 68,
      "outputs": [
        {
          "output_type": "execute_result",
          "data": {
            "text/plain": [
              "array([[-2.76704230e-02,  2.26789014e-03,  2.60337475e-02,\n",
              "        -6.78084339e-02,  2.63834735e-02,  2.58283722e-02,\n",
              "        -1.26264989e-02, -4.90159060e-02, -1.91578841e-01,\n",
              "        -8.49623751e-02, -4.10931524e-01,  2.96591603e-01,\n",
              "        -1.31284177e-01, -3.89736711e-01,  2.47506821e-02,\n",
              "        -2.14167556e-01, -4.46304666e-02,  3.76507113e-02,\n",
              "        -9.07717583e-02,  1.00535133e-02,  4.49173364e-02,\n",
              "        -8.73036619e-03,  8.20668150e+00, -5.55617800e+00,\n",
              "         1.56363965e-02]])"
            ]
          },
          "metadata": {
            "tags": []
          },
          "execution_count": 68
        }
      ]
    },
    {
      "cell_type": "code",
      "metadata": {
        "id": "YSUxrPHIrHV3",
        "colab_type": "code",
        "colab": {}
      },
      "source": [
        "#Getting the predictions\n",
        "pred = model.predict(X_test)\n",
        "predProb = model.predict_proba(X_test)"
      ],
      "execution_count": 0,
      "outputs": []
    },
    {
      "cell_type": "code",
      "metadata": {
        "id": "-2dkqehDrSLU",
        "colab_type": "code",
        "colab": {
          "base_uri": "https://localhost:8080/",
          "height": 35
        },
        "outputId": "6709cb88-a4f8-486d-a031-cc58aba3c825"
      },
      "source": [
        "#Checking the accuracy\n",
        "print(metrics.accuracy_score(y_test, pred))"
      ],
      "execution_count": 70,
      "outputs": [
        {
          "output_type": "stream",
          "text": [
            "0.8100967209247464\n"
          ],
          "name": "stdout"
        }
      ]
    },
    {
      "cell_type": "code",
      "metadata": {
        "id": "yrxa1ijUrU-j",
        "colab_type": "code",
        "colab": {
          "base_uri": "https://localhost:8080/",
          "height": 52
        },
        "outputId": "b64dc1d8-517c-4eaf-cb93-c1496964f3bd"
      },
      "source": [
        "#Checking the confusion metrics\n",
        "print(confusion_matrix(y_test, pred))"
      ],
      "execution_count": 71,
      "outputs": [
        {
          "output_type": "stream",
          "text": [
            "[[25416   494]\n",
            " [ 5946  2056]]\n"
          ],
          "name": "stdout"
        }
      ]
    },
    {
      "cell_type": "code",
      "metadata": {
        "id": "jif05cmMrY6M",
        "colab_type": "code",
        "colab": {}
      },
      "source": [
        "# Getting values for FPR and TPR we take the probability of 1 here thats why predProb[:,1] \n",
        "fpr, tpr, threshold = metrics.roc_curve(y_test, predProb[:,1])\n",
        "roc_auc = metrics.auc(fpr, tpr)"
      ],
      "execution_count": 0,
      "outputs": []
    },
    {
      "cell_type": "code",
      "metadata": {
        "id": "WBzUPWS-rdTt",
        "colab_type": "code",
        "colab": {
          "base_uri": "https://localhost:8080/",
          "height": 279
        },
        "outputId": "51038024-81b2-40c8-c3ef-2012b250ac20"
      },
      "source": [
        "# ROC Curve\n",
        "plt.plot(fpr,tpr,label=\"data 1, auc=\"+str(roc_auc), marker='.')\n",
        "plt.ylabel('True Positive Rate')\n",
        "plt.xlabel('False Positive Rate')\n",
        "plt.legend(loc=4)\n",
        "plt.show()"
      ],
      "execution_count": 73,
      "outputs": [
        {
          "output_type": "display_data",
          "data": {
            "image/png": "[encoded data removed]",
            "text/plain": [
              "<Figure size 432x288 with 1 Axes>"
            ]
          },
          "metadata": {
            "tags": [],
            "needs_background": "light"
          }
        }
      ]
    }
  ]
}